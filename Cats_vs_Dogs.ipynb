{
  "cells": [
    {
      "cell_type": "code",
      "execution_count": 1,
      "metadata": {
        "_cell_guid": "b1076dfc-b9ad-4769-8c92-a6c4dae69d19",
        "_uuid": "8f2839f25d086af736a60e9eeb907d3b93b6e0e5",
        "execution": {
          "iopub.execute_input": "2021-11-11T22:29:22.282474Z",
          "iopub.status.busy": "2021-11-11T22:29:22.281943Z",
          "iopub.status.idle": "2021-11-11T22:29:28.008393Z",
          "shell.execute_reply": "2021-11-11T22:29:28.007382Z",
          "shell.execute_reply.started": "2021-11-11T22:29:22.282370Z"
        },
        "trusted": true,
        "id": "tsUsKn5sISfX"
      },
      "outputs": [],
      "source": [
        "import tensorflow as tf \n",
        "from tensorflow.keras.layers import Conv2D, MaxPooling2D, Dropout, Flatten, Dense\n",
        "from tensorflow.keras.preprocessing.image import ImageDataGenerator\n",
        "from tensorflow.keras.callbacks import ModelCheckpoint, EarlyStopping\n",
        "from  tensorflow.keras import models, optimizers, regularizers"
      ]
    },
    {
      "cell_type": "markdown",
      "metadata": {
        "id": "TYX_E8HWISff"
      },
      "source": [
        "## Creation of the convolutional model"
      ]
    },
    {
      "cell_type": "code",
      "execution_count": 2,
      "metadata": {
        "execution": {
          "iopub.execute_input": "2021-11-11T22:29:41.468212Z",
          "iopub.status.busy": "2021-11-11T22:29:41.467894Z",
          "iopub.status.idle": "2021-11-11T22:29:44.303480Z",
          "shell.execute_reply": "2021-11-11T22:29:44.302336Z",
          "shell.execute_reply.started": "2021-11-11T22:29:41.468178Z"
        },
        "trusted": true,
        "colab": {
          "base_uri": "https://localhost:8080/"
        },
        "id": "YMDmhmIcISfm",
        "outputId": "18e23aeb-6af4-46f0-fba6-0e32532ccf7d"
      },
      "outputs": [
        {
          "output_type": "stream",
          "name": "stdout",
          "text": [
            "Model: \"sequential\"\n",
            "_________________________________________________________________\n",
            " Layer (type)                Output Shape              Param #   \n",
            "=================================================================\n",
            " conv2d (Conv2D)             (None, 148, 148, 32)      896       \n",
            "                                                                 \n",
            " max_pooling2d (MaxPooling2D  (None, 74, 74, 32)       0         \n",
            " )                                                               \n",
            "                                                                 \n",
            " conv2d_1 (Conv2D)           (None, 72, 72, 64)        18496     \n",
            "                                                                 \n",
            " max_pooling2d_1 (MaxPooling  (None, 36, 36, 64)       0         \n",
            " 2D)                                                             \n",
            "                                                                 \n",
            " conv2d_2 (Conv2D)           (None, 34, 34, 128)       73856     \n",
            "                                                                 \n",
            " max_pooling2d_2 (MaxPooling  (None, 17, 17, 128)      0         \n",
            " 2D)                                                             \n",
            "                                                                 \n",
            " conv2d_3 (Conv2D)           (None, 15, 15, 128)       147584    \n",
            "                                                                 \n",
            " max_pooling2d_3 (MaxPooling  (None, 7, 7, 128)        0         \n",
            " 2D)                                                             \n",
            "                                                                 \n",
            " flatten (Flatten)           (None, 6272)              0         \n",
            "                                                                 \n",
            " dropout (Dropout)           (None, 6272)              0         \n",
            "                                                                 \n",
            " dense (Dense)               (None, 512)               3211776   \n",
            "                                                                 \n",
            " dense_1 (Dense)             (None, 1)                 513       \n",
            "                                                                 \n",
            "=================================================================\n",
            "Total params: 3,453,121\n",
            "Trainable params: 3,453,121\n",
            "Non-trainable params: 0\n",
            "_________________________________________________________________\n"
          ]
        }
      ],
      "source": [
        "model = models.Sequential()\n",
        "\n",
        "model.add(Conv2D(32, (3,3), activation= 'relu', input_shape=(150,150,3)))\n",
        "model.add(MaxPooling2D((2,2)))\n",
        "\n",
        "model.add(Conv2D(64, (3,3), activation = 'relu'))\n",
        "model.add(MaxPooling2D((2,2)))\n",
        "\n",
        "model.add(Conv2D(128, (3,3), activation = 'relu'))\n",
        "model.add(MaxPooling2D((2,2)))\n",
        "\n",
        "model.add(Conv2D(128, (3,3), activation = 'relu'))\n",
        "model.add(MaxPooling2D((2,2)))\n",
        "\n",
        "model.add(Flatten())\n",
        "model.add(Dropout(0.5))\n",
        "model.add(Dense(512, activation='relu'))\n",
        "model.add(Dense(1, activation='sigmoid'))\n",
        "\n",
        "model.summary()\n",
        "\n",
        "\n"
      ]
    },
    {
      "cell_type": "markdown",
      "metadata": {
        "id": "014oa62NISfs"
      },
      "source": [
        "## Data augmentation"
      ]
    },
    {
      "cell_type": "code",
      "execution_count": 3,
      "metadata": {
        "execution": {
          "iopub.execute_input": "2021-11-11T22:30:14.782854Z",
          "iopub.status.busy": "2021-11-11T22:30:14.782499Z",
          "iopub.status.idle": "2021-11-11T22:30:14.788306Z",
          "shell.execute_reply": "2021-11-11T22:30:14.787221Z",
          "shell.execute_reply.started": "2021-11-11T22:30:14.782819Z"
        },
        "trusted": true,
        "id": "d_RwLRbCISft"
      },
      "outputs": [],
      "source": [
        "train_datagen = ImageDataGenerator(\n",
        "    rescale=1./255,\n",
        "    rotation_range=40,\n",
        "    width_shift_range=0.2,\n",
        "    height_shift_range=0.2,\n",
        "    shear_range=0.2,\n",
        "    zoom_range=0.2,\n",
        "    horizontal_flip=True\n",
        "    )"
      ]
    },
    {
      "cell_type": "markdown",
      "metadata": {
        "id": "0xWS-AuTISfw"
      },
      "source": [
        "## Rescale the data"
      ]
    },
    {
      "cell_type": "code",
      "execution_count": 4,
      "metadata": {
        "execution": {
          "iopub.execute_input": "2021-11-11T22:30:56.383684Z",
          "iopub.status.busy": "2021-11-11T22:30:56.383361Z",
          "iopub.status.idle": "2021-11-11T22:30:56.389332Z",
          "shell.execute_reply": "2021-11-11T22:30:56.388020Z",
          "shell.execute_reply.started": "2021-11-11T22:30:56.383650Z"
        },
        "trusted": true,
        "id": "Tano_qZdISfy"
      },
      "outputs": [],
      "source": [
        "test_datagen = ImageDataGenerator(rescale=1./255)"
      ]
    },
    {
      "cell_type": "code",
      "source": [
        "from google.colab import drive\n",
        "drive.mount('/content/drive')\n"
      ],
      "metadata": {
        "colab": {
          "base_uri": "https://localhost:8080/"
        },
        "id": "6L3cHCBAJlYr",
        "outputId": "50b96881-1a4f-4b99-cb5a-2343938c75f7"
      },
      "execution_count": 5,
      "outputs": [
        {
          "output_type": "stream",
          "name": "stdout",
          "text": [
            "Mounted at /content/drive\n"
          ]
        }
      ]
    },
    {
      "cell_type": "code",
      "execution_count": 6,
      "metadata": {
        "execution": {
          "iopub.execute_input": "2021-11-11T22:31:02.080354Z",
          "iopub.status.busy": "2021-11-11T22:31:02.079780Z",
          "iopub.status.idle": "2021-11-11T22:31:02.631971Z",
          "shell.execute_reply": "2021-11-11T22:31:02.630988Z",
          "shell.execute_reply.started": "2021-11-11T22:31:02.080296Z"
        },
        "trusted": true,
        "colab": {
          "base_uri": "https://localhost:8080/"
        },
        "id": "V3dPw8K7ISfz",
        "outputId": "e68168ba-f914-4c09-bd39-b62e606e9c4c"
      },
      "outputs": [
        {
          "output_type": "stream",
          "name": "stdout",
          "text": [
            "Found 2000 images belonging to 2 classes.\n",
            "Found 1000 images belonging to 2 classes.\n"
          ]
        }
      ],
      "source": [
        "train_generator = train_datagen.flow_from_directory('/content/drive/MyDrive/cats_and_dogs/train',\n",
        "                                 target_size=(150,150),\n",
        "                                 batch_size=32,\n",
        "                                 class_mode='binary'\n",
        "                                 )\n",
        "\n",
        "validation_generator = test_datagen.flow_from_directory('/content/drive/MyDrive/cats_and_dogs/validation',\n",
        "                                 target_size=(150,150),\n",
        "                                 batch_size=32,\n",
        "                                 class_mode='binary'\n",
        "                                 )"
      ]
    },
    {
      "cell_type": "markdown",
      "metadata": {
        "id": "51teQIXxISf3"
      },
      "source": [
        "## Callbacks"
      ]
    },
    {
      "cell_type": "code",
      "execution_count": 7,
      "metadata": {
        "execution": {
          "iopub.execute_input": "2021-11-11T22:31:08.212146Z",
          "iopub.status.busy": "2021-11-11T22:31:08.211835Z",
          "iopub.status.idle": "2021-11-11T22:31:08.217179Z",
          "shell.execute_reply": "2021-11-11T22:31:08.216073Z",
          "shell.execute_reply.started": "2021-11-11T22:31:08.212113Z"
        },
        "trusted": true,
        "id": "tcF8WDUPISf5"
      },
      "outputs": [],
      "source": [
        "checkpoint = ModelCheckpoint('model_Cats_vs_Dogs.hdf5',monitor='val_accuracy', verbose= 1, save_best_only=True)"
      ]
    },
    {
      "cell_type": "markdown",
      "metadata": {
        "id": "S-1LdhEUISf6"
      },
      "source": [
        "## Compiling the model"
      ]
    },
    {
      "cell_type": "code",
      "execution_count": 8,
      "metadata": {
        "execution": {
          "iopub.execute_input": "2021-11-11T22:31:12.969635Z",
          "iopub.status.busy": "2021-11-11T22:31:12.968799Z",
          "iopub.status.idle": "2021-11-11T22:31:12.987415Z",
          "shell.execute_reply": "2021-11-11T22:31:12.986279Z",
          "shell.execute_reply.started": "2021-11-11T22:31:12.969558Z"
        },
        "trusted": true,
        "id": "X8mBueuUISf8"
      },
      "outputs": [],
      "source": [
        "model.compile(loss='binary_crossentropy', optimizer =optimizers.Adam(),\n",
        "             metrics=['accuracy'])"
      ]
    },
    {
      "cell_type": "markdown",
      "metadata": {
        "id": "AuFLA5DpISf-"
      },
      "source": [
        "## Training the model"
      ]
    },
    {
      "cell_type": "code",
      "execution_count": 9,
      "metadata": {
        "execution": {
          "iopub.execute_input": "2021-11-11T22:31:15.441069Z",
          "iopub.status.busy": "2021-11-11T22:31:15.439842Z",
          "iopub.status.idle": "2021-11-11T23:16:08.917262Z",
          "shell.execute_reply": "2021-11-11T23:16:08.916061Z",
          "shell.execute_reply.started": "2021-11-11T22:31:15.441015Z"
        },
        "trusted": true,
        "colab": {
          "base_uri": "https://localhost:8080/"
        },
        "id": "AKa1ldJtISf_",
        "outputId": "c2fb3de2-613d-4109-a0f3-e8660e05f7ed"
      },
      "outputs": [
        {
          "output_type": "stream",
          "name": "stdout",
          "text": [
            "Epoch 1/100\n",
            "62/62 [==============================] - ETA: 0s - loss: 0.6956 - accuracy: 0.4970\n",
            "Epoch 1: val_accuracy improved from -inf to 0.50000, saving model to model_Cats_vs_Dogs.hdf5\n",
            "62/62 [==============================] - 385s 6s/step - loss: 0.6956 - accuracy: 0.4970 - val_loss: 0.6931 - val_accuracy: 0.5000\n",
            "Epoch 2/100\n",
            "62/62 [==============================] - ETA: 0s - loss: 0.6933 - accuracy: 0.5147\n",
            "Epoch 2: val_accuracy improved from 0.50000 to 0.50302, saving model to model_Cats_vs_Dogs.hdf5\n",
            "62/62 [==============================] - 20s 328ms/step - loss: 0.6933 - accuracy: 0.5147 - val_loss: 0.6918 - val_accuracy: 0.5030\n",
            "Epoch 3/100\n",
            "62/62 [==============================] - ETA: 0s - loss: 0.6884 - accuracy: 0.5376\n",
            "Epoch 3: val_accuracy improved from 0.50302 to 0.58569, saving model to model_Cats_vs_Dogs.hdf5\n",
            "62/62 [==============================] - 20s 329ms/step - loss: 0.6884 - accuracy: 0.5376 - val_loss: 0.6667 - val_accuracy: 0.5857\n",
            "Epoch 4/100\n",
            "62/62 [==============================] - ETA: 0s - loss: 0.6765 - accuracy: 0.5610\n",
            "Epoch 4: val_accuracy did not improve from 0.58569\n",
            "62/62 [==============================] - 20s 329ms/step - loss: 0.6765 - accuracy: 0.5610 - val_loss: 0.6792 - val_accuracy: 0.5121\n",
            "Epoch 5/100\n",
            "62/62 [==============================] - ETA: 0s - loss: 0.6695 - accuracy: 0.5671\n",
            "Epoch 5: val_accuracy did not improve from 0.58569\n",
            "62/62 [==============================] - 20s 325ms/step - loss: 0.6695 - accuracy: 0.5671 - val_loss: 0.6793 - val_accuracy: 0.5524\n",
            "Epoch 6/100\n",
            "62/62 [==============================] - ETA: 0s - loss: 0.6584 - accuracy: 0.6001\n",
            "Epoch 6: val_accuracy improved from 0.58569 to 0.61190, saving model to model_Cats_vs_Dogs.hdf5\n",
            "62/62 [==============================] - 20s 329ms/step - loss: 0.6584 - accuracy: 0.6001 - val_loss: 0.6492 - val_accuracy: 0.6119\n",
            "Epoch 7/100\n",
            "62/62 [==============================] - ETA: 0s - loss: 0.6657 - accuracy: 0.5818\n",
            "Epoch 7: val_accuracy improved from 0.61190 to 0.62500, saving model to model_Cats_vs_Dogs.hdf5\n",
            "62/62 [==============================] - 20s 326ms/step - loss: 0.6657 - accuracy: 0.5818 - val_loss: 0.6423 - val_accuracy: 0.6250\n",
            "Epoch 8/100\n",
            "62/62 [==============================] - ETA: 0s - loss: 0.6787 - accuracy: 0.5691\n",
            "Epoch 8: val_accuracy did not improve from 0.62500\n",
            "62/62 [==============================] - 20s 324ms/step - loss: 0.6787 - accuracy: 0.5691 - val_loss: 0.6815 - val_accuracy: 0.5675\n",
            "Epoch 9/100\n",
            "62/62 [==============================] - ETA: 0s - loss: 0.6875 - accuracy: 0.5366\n",
            "Epoch 9: val_accuracy improved from 0.62500 to 0.64315, saving model to model_Cats_vs_Dogs.hdf5\n",
            "62/62 [==============================] - 20s 331ms/step - loss: 0.6875 - accuracy: 0.5366 - val_loss: 0.6846 - val_accuracy: 0.6431\n",
            "Epoch 10/100\n",
            "62/62 [==============================] - ETA: 0s - loss: 0.6706 - accuracy: 0.5955\n",
            "Epoch 10: val_accuracy did not improve from 0.64315\n",
            "62/62 [==============================] - 20s 327ms/step - loss: 0.6706 - accuracy: 0.5955 - val_loss: 0.6452 - val_accuracy: 0.6401\n",
            "Epoch 11/100\n",
            "62/62 [==============================] - ETA: 0s - loss: 0.6463 - accuracy: 0.6133\n",
            "Epoch 11: val_accuracy did not improve from 0.64315\n",
            "62/62 [==============================] - 20s 328ms/step - loss: 0.6463 - accuracy: 0.6133 - val_loss: 0.6265 - val_accuracy: 0.6381\n",
            "Epoch 12/100\n",
            "62/62 [==============================] - ETA: 0s - loss: 0.6379 - accuracy: 0.6275\n",
            "Epoch 12: val_accuracy improved from 0.64315 to 0.67440, saving model to model_Cats_vs_Dogs.hdf5\n",
            "62/62 [==============================] - 20s 330ms/step - loss: 0.6379 - accuracy: 0.6275 - val_loss: 0.6141 - val_accuracy: 0.6744\n",
            "Epoch 13/100\n",
            "62/62 [==============================] - ETA: 0s - loss: 0.6353 - accuracy: 0.6230\n",
            "Epoch 13: val_accuracy did not improve from 0.67440\n",
            "62/62 [==============================] - 20s 327ms/step - loss: 0.6353 - accuracy: 0.6230 - val_loss: 0.6070 - val_accuracy: 0.6683\n",
            "Epoch 14/100\n",
            "62/62 [==============================] - ETA: 0s - loss: 0.6284 - accuracy: 0.6443\n",
            "Epoch 14: val_accuracy did not improve from 0.67440\n",
            "62/62 [==============================] - 22s 349ms/step - loss: 0.6284 - accuracy: 0.6443 - val_loss: 0.6161 - val_accuracy: 0.6603\n",
            "Epoch 15/100\n",
            "62/62 [==============================] - ETA: 0s - loss: 0.6377 - accuracy: 0.6367\n",
            "Epoch 15: val_accuracy improved from 0.67440 to 0.68851, saving model to model_Cats_vs_Dogs.hdf5\n",
            "62/62 [==============================] - 21s 333ms/step - loss: 0.6377 - accuracy: 0.6367 - val_loss: 0.5844 - val_accuracy: 0.6885\n",
            "Epoch 16/100\n",
            "62/62 [==============================] - ETA: 0s - loss: 0.6448 - accuracy: 0.6082\n",
            "Epoch 16: val_accuracy did not improve from 0.68851\n",
            "62/62 [==============================] - 20s 329ms/step - loss: 0.6448 - accuracy: 0.6082 - val_loss: 0.6520 - val_accuracy: 0.6744\n",
            "Epoch 17/100\n",
            "62/62 [==============================] - ETA: 0s - loss: 0.6360 - accuracy: 0.6408\n",
            "Epoch 17: val_accuracy improved from 0.68851 to 0.69556, saving model to model_Cats_vs_Dogs.hdf5\n",
            "62/62 [==============================] - 20s 329ms/step - loss: 0.6360 - accuracy: 0.6408 - val_loss: 0.5812 - val_accuracy: 0.6956\n",
            "Epoch 18/100\n",
            "62/62 [==============================] - ETA: 0s - loss: 0.6188 - accuracy: 0.6519\n",
            "Epoch 18: val_accuracy improved from 0.69556 to 0.71573, saving model to model_Cats_vs_Dogs.hdf5\n",
            "62/62 [==============================] - 20s 327ms/step - loss: 0.6188 - accuracy: 0.6519 - val_loss: 0.5723 - val_accuracy: 0.7157\n",
            "Epoch 19/100\n",
            "62/62 [==============================] - ETA: 0s - loss: 0.6071 - accuracy: 0.6580\n",
            "Epoch 19: val_accuracy did not improve from 0.71573\n",
            "62/62 [==============================] - 20s 329ms/step - loss: 0.6071 - accuracy: 0.6580 - val_loss: 0.6151 - val_accuracy: 0.6210\n",
            "Epoch 20/100\n",
            "62/62 [==============================] - ETA: 0s - loss: 0.5885 - accuracy: 0.6916\n",
            "Epoch 20: val_accuracy did not improve from 0.71573\n",
            "62/62 [==============================] - 20s 328ms/step - loss: 0.5885 - accuracy: 0.6916 - val_loss: 0.5685 - val_accuracy: 0.7016\n",
            "Epoch 21/100\n",
            "62/62 [==============================] - ETA: 0s - loss: 0.5828 - accuracy: 0.6921\n",
            "Epoch 21: val_accuracy did not improve from 0.71573\n",
            "62/62 [==============================] - 20s 325ms/step - loss: 0.5828 - accuracy: 0.6921 - val_loss: 0.6015 - val_accuracy: 0.6764\n",
            "Epoch 22/100\n",
            "62/62 [==============================] - ETA: 0s - loss: 0.5820 - accuracy: 0.6966\n",
            "Epoch 22: val_accuracy did not improve from 0.71573\n",
            "62/62 [==============================] - 21s 333ms/step - loss: 0.5820 - accuracy: 0.6966 - val_loss: 0.5885 - val_accuracy: 0.6905\n",
            "Epoch 23/100\n",
            "62/62 [==============================] - ETA: 0s - loss: 0.5733 - accuracy: 0.6961\n",
            "Epoch 23: val_accuracy did not improve from 0.71573\n",
            "62/62 [==============================] - 20s 324ms/step - loss: 0.5733 - accuracy: 0.6961 - val_loss: 0.5781 - val_accuracy: 0.6835\n",
            "Epoch 24/100\n",
            "62/62 [==============================] - ETA: 0s - loss: 0.5701 - accuracy: 0.7134\n",
            "Epoch 24: val_accuracy did not improve from 0.71573\n",
            "62/62 [==============================] - 20s 330ms/step - loss: 0.5701 - accuracy: 0.7134 - val_loss: 0.5540 - val_accuracy: 0.7016\n",
            "Epoch 25/100\n",
            "62/62 [==============================] - ETA: 0s - loss: 0.5928 - accuracy: 0.6819\n",
            "Epoch 25: val_accuracy did not improve from 0.71573\n",
            "62/62 [==============================] - 20s 330ms/step - loss: 0.5928 - accuracy: 0.6819 - val_loss: 0.5748 - val_accuracy: 0.7006\n",
            "Epoch 26/100\n",
            "62/62 [==============================] - ETA: 0s - loss: 0.5639 - accuracy: 0.7041\n",
            "Epoch 26: val_accuracy did not improve from 0.71573\n",
            "62/62 [==============================] - 20s 331ms/step - loss: 0.5639 - accuracy: 0.7041 - val_loss: 0.5761 - val_accuracy: 0.7016\n",
            "Epoch 27/100\n",
            "62/62 [==============================] - ETA: 0s - loss: 0.5631 - accuracy: 0.7175\n",
            "Epoch 27: val_accuracy did not improve from 0.71573\n",
            "62/62 [==============================] - 20s 326ms/step - loss: 0.5631 - accuracy: 0.7175 - val_loss: 0.5482 - val_accuracy: 0.7046\n",
            "Epoch 28/100\n",
            "62/62 [==============================] - ETA: 0s - loss: 0.5549 - accuracy: 0.7180\n",
            "Epoch 28: val_accuracy did not improve from 0.71573\n",
            "62/62 [==============================] - 20s 328ms/step - loss: 0.5549 - accuracy: 0.7180 - val_loss: 0.5738 - val_accuracy: 0.7147\n",
            "Epoch 29/100\n",
            "62/62 [==============================] - ETA: 0s - loss: 0.5560 - accuracy: 0.7154\n",
            "Epoch 29: val_accuracy did not improve from 0.71573\n",
            "62/62 [==============================] - 20s 329ms/step - loss: 0.5560 - accuracy: 0.7154 - val_loss: 0.5516 - val_accuracy: 0.7097\n",
            "Epoch 30/100\n",
            "62/62 [==============================] - ETA: 0s - loss: 0.5419 - accuracy: 0.7282\n",
            "Epoch 30: val_accuracy improved from 0.71573 to 0.72782, saving model to model_Cats_vs_Dogs.hdf5\n",
            "62/62 [==============================] - 20s 328ms/step - loss: 0.5419 - accuracy: 0.7282 - val_loss: 0.5253 - val_accuracy: 0.7278\n",
            "Epoch 31/100\n",
            "62/62 [==============================] - ETA: 0s - loss: 0.5407 - accuracy: 0.7139\n",
            "Epoch 31: val_accuracy did not improve from 0.72782\n",
            "62/62 [==============================] - 20s 324ms/step - loss: 0.5407 - accuracy: 0.7139 - val_loss: 0.5740 - val_accuracy: 0.7067\n",
            "Epoch 32/100\n",
            "62/62 [==============================] - ETA: 0s - loss: 0.5394 - accuracy: 0.7200\n",
            "Epoch 32: val_accuracy improved from 0.72782 to 0.75000, saving model to model_Cats_vs_Dogs.hdf5\n",
            "62/62 [==============================] - 20s 327ms/step - loss: 0.5394 - accuracy: 0.7200 - val_loss: 0.5140 - val_accuracy: 0.7500\n",
            "Epoch 33/100\n",
            "62/62 [==============================] - ETA: 0s - loss: 0.5371 - accuracy: 0.7393\n",
            "Epoch 33: val_accuracy did not improve from 0.75000\n",
            "62/62 [==============================] - 20s 326ms/step - loss: 0.5371 - accuracy: 0.7393 - val_loss: 0.5156 - val_accuracy: 0.7490\n",
            "Epoch 34/100\n",
            "62/62 [==============================] - ETA: 0s - loss: 0.5057 - accuracy: 0.7525\n",
            "Epoch 34: val_accuracy did not improve from 0.75000\n",
            "62/62 [==============================] - 20s 329ms/step - loss: 0.5057 - accuracy: 0.7525 - val_loss: 0.6439 - val_accuracy: 0.6935\n",
            "Epoch 35/100\n",
            "62/62 [==============================] - ETA: 0s - loss: 0.5425 - accuracy: 0.7251\n",
            "Epoch 35: val_accuracy improved from 0.75000 to 0.75907, saving model to model_Cats_vs_Dogs.hdf5\n",
            "62/62 [==============================] - 20s 331ms/step - loss: 0.5425 - accuracy: 0.7251 - val_loss: 0.5064 - val_accuracy: 0.7591\n",
            "Epoch 36/100\n",
            "62/62 [==============================] - ETA: 0s - loss: 0.5124 - accuracy: 0.7551\n",
            "Epoch 36: val_accuracy improved from 0.75907 to 0.79032, saving model to model_Cats_vs_Dogs.hdf5\n",
            "62/62 [==============================] - 20s 325ms/step - loss: 0.5124 - accuracy: 0.7551 - val_loss: 0.4755 - val_accuracy: 0.7903\n",
            "Epoch 37/100\n",
            "62/62 [==============================] - ETA: 0s - loss: 0.5332 - accuracy: 0.7317\n",
            "Epoch 37: val_accuracy did not improve from 0.79032\n",
            "62/62 [==============================] - 21s 346ms/step - loss: 0.5332 - accuracy: 0.7317 - val_loss: 0.5163 - val_accuracy: 0.7581\n",
            "Epoch 38/100\n",
            "62/62 [==============================] - ETA: 0s - loss: 0.5287 - accuracy: 0.7297\n",
            "Epoch 38: val_accuracy improved from 0.79032 to 0.79133, saving model to model_Cats_vs_Dogs.hdf5\n",
            "62/62 [==============================] - 20s 332ms/step - loss: 0.5287 - accuracy: 0.7297 - val_loss: 0.4751 - val_accuracy: 0.7913\n",
            "Epoch 39/100\n",
            "62/62 [==============================] - ETA: 0s - loss: 0.5115 - accuracy: 0.7541\n",
            "Epoch 39: val_accuracy did not improve from 0.79133\n",
            "62/62 [==============================] - 20s 329ms/step - loss: 0.5115 - accuracy: 0.7541 - val_loss: 0.5395 - val_accuracy: 0.7188\n",
            "Epoch 40/100\n",
            "62/62 [==============================] - ETA: 0s - loss: 0.5051 - accuracy: 0.7500\n",
            "Epoch 40: val_accuracy did not improve from 0.79133\n",
            "62/62 [==============================] - 21s 332ms/step - loss: 0.5051 - accuracy: 0.7500 - val_loss: 0.4917 - val_accuracy: 0.7742\n",
            "Epoch 41/100\n",
            "62/62 [==============================] - ETA: 0s - loss: 0.5051 - accuracy: 0.7566\n",
            "Epoch 41: val_accuracy did not improve from 0.79133\n",
            "62/62 [==============================] - 20s 329ms/step - loss: 0.5051 - accuracy: 0.7566 - val_loss: 0.4851 - val_accuracy: 0.7812\n",
            "Epoch 42/100\n",
            "62/62 [==============================] - ETA: 0s - loss: 0.4890 - accuracy: 0.7581\n",
            "Epoch 42: val_accuracy did not improve from 0.79133\n",
            "62/62 [==============================] - 20s 326ms/step - loss: 0.4890 - accuracy: 0.7581 - val_loss: 0.4584 - val_accuracy: 0.7863\n",
            "Epoch 43/100\n",
            "62/62 [==============================] - ETA: 0s - loss: 0.4882 - accuracy: 0.7617\n",
            "Epoch 43: val_accuracy did not improve from 0.79133\n",
            "62/62 [==============================] - 21s 338ms/step - loss: 0.4882 - accuracy: 0.7617 - val_loss: 0.4592 - val_accuracy: 0.7863\n",
            "Epoch 44/100\n",
            "62/62 [==============================] - ETA: 0s - loss: 0.4711 - accuracy: 0.7764\n",
            "Epoch 44: val_accuracy did not improve from 0.79133\n",
            "62/62 [==============================] - 20s 330ms/step - loss: 0.4711 - accuracy: 0.7764 - val_loss: 0.4629 - val_accuracy: 0.7772\n",
            "Epoch 45/100\n",
            "62/62 [==============================] - ETA: 0s - loss: 0.4805 - accuracy: 0.7764\n",
            "Epoch 45: val_accuracy did not improve from 0.79133\n",
            "62/62 [==============================] - 20s 327ms/step - loss: 0.4805 - accuracy: 0.7764 - val_loss: 0.4649 - val_accuracy: 0.7772\n",
            "Epoch 46/100\n",
            "62/62 [==============================] - ETA: 0s - loss: 0.4631 - accuracy: 0.7861\n",
            "Epoch 46: val_accuracy did not improve from 0.79133\n",
            "62/62 [==============================] - 20s 328ms/step - loss: 0.4631 - accuracy: 0.7861 - val_loss: 0.4798 - val_accuracy: 0.7732\n",
            "Epoch 47/100\n",
            "62/62 [==============================] - ETA: 0s - loss: 0.4905 - accuracy: 0.7718\n",
            "Epoch 47: val_accuracy did not improve from 0.79133\n",
            "62/62 [==============================] - 20s 327ms/step - loss: 0.4905 - accuracy: 0.7718 - val_loss: 0.4793 - val_accuracy: 0.7681\n",
            "Epoch 48/100\n",
            "62/62 [==============================] - ETA: 0s - loss: 0.4582 - accuracy: 0.7932\n",
            "Epoch 48: val_accuracy did not improve from 0.79133\n",
            "62/62 [==============================] - 20s 328ms/step - loss: 0.4582 - accuracy: 0.7932 - val_loss: 0.4483 - val_accuracy: 0.7903\n",
            "Epoch 49/100\n",
            "62/62 [==============================] - ETA: 0s - loss: 0.4675 - accuracy: 0.7840\n",
            "Epoch 49: val_accuracy did not improve from 0.79133\n",
            "62/62 [==============================] - 20s 327ms/step - loss: 0.4675 - accuracy: 0.7840 - val_loss: 0.4649 - val_accuracy: 0.7833\n",
            "Epoch 50/100\n",
            "62/62 [==============================] - ETA: 0s - loss: 0.4749 - accuracy: 0.7744\n",
            "Epoch 50: val_accuracy did not improve from 0.79133\n",
            "62/62 [==============================] - 20s 327ms/step - loss: 0.4749 - accuracy: 0.7744 - val_loss: 0.4769 - val_accuracy: 0.7762\n",
            "Epoch 51/100\n",
            "62/62 [==============================] - ETA: 0s - loss: 0.4547 - accuracy: 0.7825\n",
            "Epoch 51: val_accuracy improved from 0.79133 to 0.79234, saving model to model_Cats_vs_Dogs.hdf5\n",
            "62/62 [==============================] - 20s 330ms/step - loss: 0.4547 - accuracy: 0.7825 - val_loss: 0.4368 - val_accuracy: 0.7923\n",
            "Epoch 52/100\n",
            "62/62 [==============================] - ETA: 0s - loss: 0.4687 - accuracy: 0.7917\n",
            "Epoch 52: val_accuracy improved from 0.79234 to 0.81452, saving model to model_Cats_vs_Dogs.hdf5\n",
            "62/62 [==============================] - 20s 329ms/step - loss: 0.4687 - accuracy: 0.7917 - val_loss: 0.4139 - val_accuracy: 0.8145\n",
            "Epoch 53/100\n",
            "62/62 [==============================] - ETA: 0s - loss: 0.4575 - accuracy: 0.7820\n",
            "Epoch 53: val_accuracy did not improve from 0.81452\n",
            "62/62 [==============================] - 20s 326ms/step - loss: 0.4575 - accuracy: 0.7820 - val_loss: 0.4571 - val_accuracy: 0.7802\n",
            "Epoch 54/100\n",
            "62/62 [==============================] - ETA: 0s - loss: 0.4495 - accuracy: 0.7942\n",
            "Epoch 54: val_accuracy did not improve from 0.81452\n",
            "62/62 [==============================] - 20s 327ms/step - loss: 0.4495 - accuracy: 0.7942 - val_loss: 0.4573 - val_accuracy: 0.7994\n",
            "Epoch 55/100\n",
            "62/62 [==============================] - ETA: 0s - loss: 0.4289 - accuracy: 0.7952\n",
            "Epoch 55: val_accuracy did not improve from 0.81452\n",
            "62/62 [==============================] - 20s 327ms/step - loss: 0.4289 - accuracy: 0.7952 - val_loss: 0.4514 - val_accuracy: 0.7913\n",
            "Epoch 56/100\n",
            "62/62 [==============================] - ETA: 0s - loss: 0.4384 - accuracy: 0.7983\n",
            "Epoch 56: val_accuracy did not improve from 0.81452\n",
            "62/62 [==============================] - 20s 327ms/step - loss: 0.4384 - accuracy: 0.7983 - val_loss: 0.4444 - val_accuracy: 0.7944\n",
            "Epoch 57/100\n",
            "62/62 [==============================] - ETA: 0s - loss: 0.4342 - accuracy: 0.7917\n",
            "Epoch 57: val_accuracy did not improve from 0.81452\n",
            "62/62 [==============================] - 21s 341ms/step - loss: 0.4342 - accuracy: 0.7917 - val_loss: 0.4156 - val_accuracy: 0.8054\n",
            "Epoch 58/100\n",
            "62/62 [==============================] - ETA: 0s - loss: 0.4152 - accuracy: 0.8155\n",
            "Epoch 58: val_accuracy did not improve from 0.81452\n",
            "62/62 [==============================] - 20s 325ms/step - loss: 0.4152 - accuracy: 0.8155 - val_loss: 0.4261 - val_accuracy: 0.8105\n",
            "Epoch 59/100\n",
            "62/62 [==============================] - ETA: 0s - loss: 0.4194 - accuracy: 0.8150\n",
            "Epoch 59: val_accuracy did not improve from 0.81452\n",
            "62/62 [==============================] - 21s 337ms/step - loss: 0.4194 - accuracy: 0.8150 - val_loss: 0.4426 - val_accuracy: 0.7994\n",
            "Epoch 60/100\n",
            "62/62 [==============================] - ETA: 0s - loss: 0.4232 - accuracy: 0.8161\n",
            "Epoch 60: val_accuracy did not improve from 0.81452\n",
            "62/62 [==============================] - 21s 331ms/step - loss: 0.4232 - accuracy: 0.8161 - val_loss: 0.4028 - val_accuracy: 0.8115\n",
            "Epoch 61/100\n",
            "62/62 [==============================] - ETA: 0s - loss: 0.4082 - accuracy: 0.8140\n",
            "Epoch 61: val_accuracy did not improve from 0.81452\n",
            "62/62 [==============================] - 20s 330ms/step - loss: 0.4082 - accuracy: 0.8140 - val_loss: 0.4471 - val_accuracy: 0.7994\n",
            "Epoch 62/100\n",
            "62/62 [==============================] - ETA: 0s - loss: 0.4161 - accuracy: 0.8084\n",
            "Epoch 62: val_accuracy did not improve from 0.81452\n",
            "62/62 [==============================] - 20s 327ms/step - loss: 0.4161 - accuracy: 0.8084 - val_loss: 0.4236 - val_accuracy: 0.7994\n",
            "Epoch 63/100\n",
            "62/62 [==============================] - ETA: 0s - loss: 0.4143 - accuracy: 0.8145\n",
            "Epoch 63: val_accuracy did not improve from 0.81452\n",
            "62/62 [==============================] - 20s 326ms/step - loss: 0.4143 - accuracy: 0.8145 - val_loss: 0.4043 - val_accuracy: 0.8145\n",
            "Epoch 64/100\n",
            "62/62 [==============================] - ETA: 0s - loss: 0.3990 - accuracy: 0.8191\n",
            "Epoch 64: val_accuracy improved from 0.81452 to 0.82056, saving model to model_Cats_vs_Dogs.hdf5\n",
            "62/62 [==============================] - 20s 329ms/step - loss: 0.3990 - accuracy: 0.8191 - val_loss: 0.4047 - val_accuracy: 0.8206\n",
            "Epoch 65/100\n",
            "62/62 [==============================] - ETA: 0s - loss: 0.3870 - accuracy: 0.8303\n",
            "Epoch 65: val_accuracy did not improve from 0.82056\n",
            "62/62 [==============================] - 20s 329ms/step - loss: 0.3870 - accuracy: 0.8303 - val_loss: 0.4295 - val_accuracy: 0.7903\n",
            "Epoch 66/100\n",
            "62/62 [==============================] - ETA: 0s - loss: 0.4195 - accuracy: 0.8120\n",
            "Epoch 66: val_accuracy improved from 0.82056 to 0.82359, saving model to model_Cats_vs_Dogs.hdf5\n",
            "62/62 [==============================] - 20s 326ms/step - loss: 0.4195 - accuracy: 0.8120 - val_loss: 0.3654 - val_accuracy: 0.8236\n",
            "Epoch 67/100\n",
            "62/62 [==============================] - ETA: 0s - loss: 0.3853 - accuracy: 0.8318\n",
            "Epoch 67: val_accuracy improved from 0.82359 to 0.82560, saving model to model_Cats_vs_Dogs.hdf5\n",
            "62/62 [==============================] - 20s 330ms/step - loss: 0.3853 - accuracy: 0.8318 - val_loss: 0.4045 - val_accuracy: 0.8256\n",
            "Epoch 68/100\n",
            "62/62 [==============================] - ETA: 0s - loss: 0.4102 - accuracy: 0.8171\n",
            "Epoch 68: val_accuracy did not improve from 0.82560\n",
            "62/62 [==============================] - 20s 325ms/step - loss: 0.4102 - accuracy: 0.8171 - val_loss: 0.4276 - val_accuracy: 0.8065\n",
            "Epoch 69/100\n",
            "62/62 [==============================] - ETA: 0s - loss: 0.3906 - accuracy: 0.8262\n",
            "Epoch 69: val_accuracy did not improve from 0.82560\n",
            "62/62 [==============================] - 20s 329ms/step - loss: 0.3906 - accuracy: 0.8262 - val_loss: 0.4200 - val_accuracy: 0.8065\n",
            "Epoch 70/100\n",
            "62/62 [==============================] - ETA: 0s - loss: 0.3907 - accuracy: 0.8237\n",
            "Epoch 70: val_accuracy did not improve from 0.82560\n",
            "62/62 [==============================] - 21s 337ms/step - loss: 0.3907 - accuracy: 0.8237 - val_loss: 0.3879 - val_accuracy: 0.8185\n",
            "Epoch 71/100\n",
            "62/62 [==============================] - ETA: 0s - loss: 0.3906 - accuracy: 0.8191\n",
            "Epoch 71: val_accuracy improved from 0.82560 to 0.82863, saving model to model_Cats_vs_Dogs.hdf5\n",
            "62/62 [==============================] - 20s 325ms/step - loss: 0.3906 - accuracy: 0.8191 - val_loss: 0.3776 - val_accuracy: 0.8286\n",
            "Epoch 72/100\n",
            "62/62 [==============================] - ETA: 0s - loss: 0.3854 - accuracy: 0.8293\n",
            "Epoch 72: val_accuracy did not improve from 0.82863\n",
            "62/62 [==============================] - 20s 328ms/step - loss: 0.3854 - accuracy: 0.8293 - val_loss: 0.3806 - val_accuracy: 0.8115\n",
            "Epoch 73/100\n",
            "62/62 [==============================] - ETA: 0s - loss: 0.3729 - accuracy: 0.8313\n",
            "Epoch 73: val_accuracy did not improve from 0.82863\n",
            "62/62 [==============================] - 20s 327ms/step - loss: 0.3729 - accuracy: 0.8313 - val_loss: 0.4018 - val_accuracy: 0.8256\n",
            "Epoch 74/100\n",
            "62/62 [==============================] - ETA: 0s - loss: 0.3819 - accuracy: 0.8293\n",
            "Epoch 74: val_accuracy did not improve from 0.82863\n",
            "62/62 [==============================] - 20s 325ms/step - loss: 0.3819 - accuracy: 0.8293 - val_loss: 0.4018 - val_accuracy: 0.8286\n",
            "Epoch 75/100\n",
            "62/62 [==============================] - ETA: 0s - loss: 0.3769 - accuracy: 0.8333\n",
            "Epoch 75: val_accuracy did not improve from 0.82863\n",
            "62/62 [==============================] - 20s 329ms/step - loss: 0.3769 - accuracy: 0.8333 - val_loss: 0.3829 - val_accuracy: 0.8286\n",
            "Epoch 76/100\n",
            "62/62 [==============================] - ETA: 0s - loss: 0.3696 - accuracy: 0.8277\n",
            "Epoch 76: val_accuracy did not improve from 0.82863\n",
            "62/62 [==============================] - 20s 328ms/step - loss: 0.3696 - accuracy: 0.8277 - val_loss: 0.3768 - val_accuracy: 0.8256\n",
            "Epoch 77/100\n",
            "62/62 [==============================] - ETA: 0s - loss: 0.3622 - accuracy: 0.8415\n",
            "Epoch 77: val_accuracy improved from 0.82863 to 0.83266, saving model to model_Cats_vs_Dogs.hdf5\n",
            "62/62 [==============================] - 20s 330ms/step - loss: 0.3622 - accuracy: 0.8415 - val_loss: 0.3810 - val_accuracy: 0.8327\n",
            "Epoch 78/100\n",
            "62/62 [==============================] - ETA: 0s - loss: 0.3677 - accuracy: 0.8359\n",
            "Epoch 78: val_accuracy improved from 0.83266 to 0.84073, saving model to model_Cats_vs_Dogs.hdf5\n",
            "62/62 [==============================] - 20s 328ms/step - loss: 0.3677 - accuracy: 0.8359 - val_loss: 0.3606 - val_accuracy: 0.8407\n",
            "Epoch 79/100\n",
            "62/62 [==============================] - ETA: 0s - loss: 0.3399 - accuracy: 0.8562\n",
            "Epoch 79: val_accuracy did not improve from 0.84073\n",
            "62/62 [==============================] - 20s 329ms/step - loss: 0.3399 - accuracy: 0.8562 - val_loss: 0.4016 - val_accuracy: 0.8165\n",
            "Epoch 80/100\n",
            "62/62 [==============================] - ETA: 0s - loss: 0.3569 - accuracy: 0.8501\n",
            "Epoch 80: val_accuracy did not improve from 0.84073\n",
            "62/62 [==============================] - 20s 327ms/step - loss: 0.3569 - accuracy: 0.8501 - val_loss: 0.4157 - val_accuracy: 0.8115\n",
            "Epoch 81/100\n",
            "62/62 [==============================] - ETA: 0s - loss: 0.3521 - accuracy: 0.8455\n",
            "Epoch 81: val_accuracy did not improve from 0.84073\n",
            "62/62 [==============================] - 20s 328ms/step - loss: 0.3521 - accuracy: 0.8455 - val_loss: 0.3773 - val_accuracy: 0.8367\n",
            "Epoch 82/100\n",
            "62/62 [==============================] - ETA: 0s - loss: 0.3418 - accuracy: 0.8460\n",
            "Epoch 82: val_accuracy did not improve from 0.84073\n",
            "62/62 [==============================] - 20s 326ms/step - loss: 0.3418 - accuracy: 0.8460 - val_loss: 0.3921 - val_accuracy: 0.8296\n",
            "Epoch 83/100\n",
            "62/62 [==============================] - ETA: 0s - loss: 0.3635 - accuracy: 0.8450\n",
            "Epoch 83: val_accuracy did not improve from 0.84073\n",
            "62/62 [==============================] - 21s 335ms/step - loss: 0.3635 - accuracy: 0.8450 - val_loss: 0.3667 - val_accuracy: 0.8377\n",
            "Epoch 84/100\n",
            "62/62 [==============================] - ETA: 0s - loss: 0.3436 - accuracy: 0.8486\n",
            "Epoch 84: val_accuracy did not improve from 0.84073\n",
            "62/62 [==============================] - 20s 328ms/step - loss: 0.3436 - accuracy: 0.8486 - val_loss: 0.3992 - val_accuracy: 0.8296\n",
            "Epoch 85/100\n",
            "62/62 [==============================] - ETA: 0s - loss: 0.3307 - accuracy: 0.8481\n",
            "Epoch 85: val_accuracy improved from 0.84073 to 0.85181, saving model to model_Cats_vs_Dogs.hdf5\n",
            "62/62 [==============================] - 20s 329ms/step - loss: 0.3307 - accuracy: 0.8481 - val_loss: 0.3603 - val_accuracy: 0.8518\n",
            "Epoch 86/100\n",
            "62/62 [==============================] - ETA: 0s - loss: 0.3185 - accuracy: 0.8643\n",
            "Epoch 86: val_accuracy did not improve from 0.85181\n",
            "62/62 [==============================] - 20s 329ms/step - loss: 0.3185 - accuracy: 0.8643 - val_loss: 0.3544 - val_accuracy: 0.8478\n",
            "Epoch 87/100\n",
            "62/62 [==============================] - ETA: 0s - loss: 0.3274 - accuracy: 0.8633\n",
            "Epoch 87: val_accuracy did not improve from 0.85181\n",
            "62/62 [==============================] - 20s 325ms/step - loss: 0.3274 - accuracy: 0.8633 - val_loss: 0.3939 - val_accuracy: 0.8417\n",
            "Epoch 88/100\n",
            "62/62 [==============================] - ETA: 0s - loss: 0.3273 - accuracy: 0.8592\n",
            "Epoch 88: val_accuracy did not improve from 0.85181\n",
            "62/62 [==============================] - 20s 326ms/step - loss: 0.3273 - accuracy: 0.8592 - val_loss: 0.4569 - val_accuracy: 0.8226\n",
            "Epoch 89/100\n",
            "62/62 [==============================] - ETA: 0s - loss: 0.3484 - accuracy: 0.8410\n",
            "Epoch 89: val_accuracy did not improve from 0.85181\n",
            "62/62 [==============================] - 20s 328ms/step - loss: 0.3484 - accuracy: 0.8410 - val_loss: 0.4355 - val_accuracy: 0.8115\n",
            "Epoch 90/100\n",
            "62/62 [==============================] - ETA: 0s - loss: 0.3263 - accuracy: 0.8516\n",
            "Epoch 90: val_accuracy did not improve from 0.85181\n",
            "62/62 [==============================] - 20s 331ms/step - loss: 0.3263 - accuracy: 0.8516 - val_loss: 0.3660 - val_accuracy: 0.8498\n",
            "Epoch 91/100\n",
            "62/62 [==============================] - ETA: 0s - loss: 0.3236 - accuracy: 0.8587\n",
            "Epoch 91: val_accuracy did not improve from 0.85181\n",
            "62/62 [==============================] - 21s 333ms/step - loss: 0.3236 - accuracy: 0.8587 - val_loss: 0.3822 - val_accuracy: 0.8266\n",
            "Epoch 92/100\n",
            "62/62 [==============================] - ETA: 0s - loss: 0.3060 - accuracy: 0.8689\n",
            "Epoch 92: val_accuracy improved from 0.85181 to 0.86694, saving model to model_Cats_vs_Dogs.hdf5\n",
            "62/62 [==============================] - 20s 331ms/step - loss: 0.3060 - accuracy: 0.8689 - val_loss: 0.3304 - val_accuracy: 0.8669\n",
            "Epoch 93/100\n",
            "62/62 [==============================] - ETA: 0s - loss: 0.3517 - accuracy: 0.8394\n",
            "Epoch 93: val_accuracy did not improve from 0.86694\n",
            "62/62 [==============================] - 20s 331ms/step - loss: 0.3517 - accuracy: 0.8394 - val_loss: 0.3482 - val_accuracy: 0.8528\n",
            "Epoch 94/100\n",
            "62/62 [==============================] - ETA: 0s - loss: 0.3519 - accuracy: 0.8460\n",
            "Epoch 94: val_accuracy did not improve from 0.86694\n",
            "62/62 [==============================] - 20s 330ms/step - loss: 0.3519 - accuracy: 0.8460 - val_loss: 0.3903 - val_accuracy: 0.8196\n",
            "Epoch 95/100\n",
            "62/62 [==============================] - ETA: 0s - loss: 0.3216 - accuracy: 0.8613\n",
            "Epoch 95: val_accuracy did not improve from 0.86694\n",
            "62/62 [==============================] - 20s 328ms/step - loss: 0.3216 - accuracy: 0.8613 - val_loss: 0.3806 - val_accuracy: 0.8216\n",
            "Epoch 96/100\n",
            "62/62 [==============================] - ETA: 0s - loss: 0.3326 - accuracy: 0.8506\n",
            "Epoch 96: val_accuracy did not improve from 0.86694\n",
            "62/62 [==============================] - 20s 330ms/step - loss: 0.3326 - accuracy: 0.8506 - val_loss: 0.3426 - val_accuracy: 0.8538\n",
            "Epoch 97/100\n",
            "62/62 [==============================] - ETA: 0s - loss: 0.3278 - accuracy: 0.8491\n",
            "Epoch 97: val_accuracy did not improve from 0.86694\n",
            "62/62 [==============================] - 20s 331ms/step - loss: 0.3278 - accuracy: 0.8491 - val_loss: 0.3622 - val_accuracy: 0.8407\n",
            "Epoch 98/100\n",
            "62/62 [==============================] - ETA: 0s - loss: 0.3157 - accuracy: 0.8608\n",
            "Epoch 98: val_accuracy did not improve from 0.86694\n",
            "62/62 [==============================] - 20s 328ms/step - loss: 0.3157 - accuracy: 0.8608 - val_loss: 0.3540 - val_accuracy: 0.8558\n",
            "Epoch 99/100\n",
            "62/62 [==============================] - ETA: 0s - loss: 0.3023 - accuracy: 0.8638\n",
            "Epoch 99: val_accuracy did not improve from 0.86694\n",
            "62/62 [==============================] - 20s 328ms/step - loss: 0.3023 - accuracy: 0.8638 - val_loss: 0.3565 - val_accuracy: 0.8558\n",
            "Epoch 100/100\n",
            "62/62 [==============================] - ETA: 0s - loss: 0.3081 - accuracy: 0.8730\n",
            "Epoch 100: val_accuracy did not improve from 0.86694\n",
            "62/62 [==============================] - 20s 328ms/step - loss: 0.3081 - accuracy: 0.8730 - val_loss: 0.3712 - val_accuracy: 0.8407\n"
          ]
        }
      ],
      "source": [
        "hist = model.fit(train_generator, steps_per_epoch=2000//32,\n",
        "                epochs=100,\n",
        "                validation_data=validation_generator,\n",
        "                 validation_steps= 1000//32,\n",
        "                 callbacks=[checkpoint])"
      ]
    },
    {
      "cell_type": "markdown",
      "metadata": {
        "id": "HrtfBk1_ISgA"
      },
      "source": [
        "## Results"
      ]
    },
    {
      "cell_type": "code",
      "execution_count": 10,
      "metadata": {
        "execution": {
          "iopub.execute_input": "2021-11-11T23:16:55.610789Z",
          "iopub.status.busy": "2021-11-11T23:16:55.607807Z",
          "iopub.status.idle": "2021-11-11T23:16:55.620861Z",
          "shell.execute_reply": "2021-11-11T23:16:55.619542Z",
          "shell.execute_reply.started": "2021-11-11T23:16:55.610726Z"
        },
        "trusted": true,
        "id": "MnHC2wi5ISgB"
      },
      "outputs": [],
      "source": [
        "import matplotlib.pyplot as plt"
      ]
    },
    {
      "cell_type": "code",
      "execution_count": 11,
      "metadata": {
        "execution": {
          "iopub.execute_input": "2021-11-11T23:17:34.902490Z",
          "iopub.status.busy": "2021-11-11T23:17:34.902109Z",
          "iopub.status.idle": "2021-11-11T23:17:35.189173Z",
          "shell.execute_reply": "2021-11-11T23:17:35.188183Z",
          "shell.execute_reply.started": "2021-11-11T23:17:34.902422Z"
        },
        "trusted": true,
        "colab": {
          "base_uri": "https://localhost:8080/",
          "height": 265
        },
        "id": "MaOggssBISgC",
        "outputId": "2ddabb49-97b5-48b3-863c-970fcdb64f63"
      },
      "outputs": [
        {
          "output_type": "display_data",
          "data": {
            "text/plain": [
              "<Figure size 432x288 with 1 Axes>"
            ],
            "image/png": "[encoded data removed]"
          },
          "metadata": {
            "needs_background": "light"
          }
        }
      ],
      "source": [
        "plt.plot(hist.history['accuracy'], label = 'Train')\n",
        "plt.plot(hist.history['val_accuracy'], label = 'Val')\n",
        "plt.legend()\n",
        "plt.show()"
      ]
    },
    {
      "cell_type": "code",
      "execution_count": 12,
      "metadata": {
        "execution": {
          "iopub.execute_input": "2021-11-11T23:17:37.358025Z",
          "iopub.status.busy": "2021-11-11T23:17:37.357380Z",
          "iopub.status.idle": "2021-11-11T23:17:37.681644Z",
          "shell.execute_reply": "2021-11-11T23:17:37.680336Z",
          "shell.execute_reply.started": "2021-11-11T23:17:37.357987Z"
        },
        "trusted": true,
        "colab": {
          "base_uri": "https://localhost:8080/"
        },
        "id": "XsPu3qliISgD",
        "outputId": "5461135f-ccd8-44d6-f9b2-54483c9ef966"
      },
      "outputs": [
        {
          "output_type": "stream",
          "name": "stdout",
          "text": [
            "Found 1000 images belonging to 2 classes.\n"
          ]
        }
      ],
      "source": [
        "test_generator = test_datagen.flow_from_directory('/content/drive/MyDrive/cats_and_dogs/test',\n",
        "                                 target_size=(150,150),\n",
        "                                 batch_size=32,\n",
        "                                 class_mode='binary'\n",
        "                                 )"
      ]
    },
    {
      "cell_type": "code",
      "execution_count": 13,
      "metadata": {
        "execution": {
          "iopub.execute_input": "2021-11-11T23:17:46.027482Z",
          "iopub.status.busy": "2021-11-11T23:17:46.027176Z",
          "iopub.status.idle": "2021-11-11T23:17:46.032653Z",
          "shell.execute_reply": "2021-11-11T23:17:46.031218Z",
          "shell.execute_reply.started": "2021-11-11T23:17:46.027449Z"
        },
        "trusted": true,
        "id": "_8lj27UwISgE"
      },
      "outputs": [],
      "source": [
        "model2 = model "
      ]
    },
    {
      "cell_type": "code",
      "execution_count": 14,
      "metadata": {
        "execution": {
          "iopub.execute_input": "2021-11-11T23:17:50.007943Z",
          "iopub.status.busy": "2021-11-11T23:17:50.007641Z",
          "iopub.status.idle": "2021-11-11T23:17:50.045525Z",
          "shell.execute_reply": "2021-11-11T23:17:50.044281Z",
          "shell.execute_reply.started": "2021-11-11T23:17:50.007906Z"
        },
        "trusted": true,
        "id": "33i9ZcToISgF"
      },
      "outputs": [],
      "source": [
        "model2.load_weights('./model_Cats_vs_Dogs.hdf5')"
      ]
    },
    {
      "cell_type": "code",
      "execution_count": 15,
      "metadata": {
        "execution": {
          "iopub.execute_input": "2021-11-11T23:18:22.532203Z",
          "iopub.status.busy": "2021-11-11T23:18:22.531340Z",
          "iopub.status.idle": "2021-11-11T23:18:33.026379Z",
          "shell.execute_reply": "2021-11-11T23:18:33.025404Z",
          "shell.execute_reply.started": "2021-11-11T23:18:22.532160Z"
        },
        "trusted": true,
        "colab": {
          "base_uri": "https://localhost:8080/"
        },
        "id": "WqE_PA4iISgG",
        "outputId": "22bb99c2-8c65-48e7-c0ff-0fb723781ba2"
      },
      "outputs": [
        {
          "output_type": "stream",
          "name": "stdout",
          "text": [
            "32/32 [==============================] - 90s 3s/step - loss: 0.4158 - accuracy: 0.8470\n"
          ]
        },
        {
          "output_type": "execute_result",
          "data": {
            "text/plain": [
              "[0.41577181220054626, 0.847000002861023]"
            ]
          },
          "metadata": {},
          "execution_count": 15
        }
      ],
      "source": [
        "model2.evaluate(test_generator)"
      ]
    }
  ],
  "metadata": {
    "kernelspec": {
      "display_name": "Python 3.8.8 64-bit",
      "language": "python",
      "name": "python3"
    },
    "language_info": {
      "codemirror_mode": {
        "name": "ipython",
        "version": 3
      },
      "file_extension": ".py",
      "mimetype": "text/x-python",
      "name": "python",
      "nbconvert_exporter": "python",
      "pygments_lexer": "ipython3",
      "version": "3.8.8"
    },
    "vscode": {
      "interpreter": {
        "hash": "96130cd4899bb83dc85b9dc905d8858d210bc0327d8e051c7aea9b2cc12bf6aa"
      }
    },
    "colab": {
      "name": "Cats_vs_Dogs.ipynb",
      "provenance": []
    },
    "accelerator": "GPU",
    "gpuClass": "standard"
  },
  "nbformat": 4,
  "nbformat_minor": 0
}